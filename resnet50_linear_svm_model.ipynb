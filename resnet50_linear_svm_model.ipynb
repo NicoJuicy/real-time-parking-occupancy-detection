{
 "cells": [
  {
   "cell_type": "markdown",
   "metadata": {},
   "source": [
    "# ResNet-50 + SVM"
   ]
  },
  {
   "cell_type": "markdown",
   "metadata": {},
   "source": [
    "This notebook used to train the parking lot classifier. ResNet-50 is used as feature extractor and SGDClassifier (linear Support Vector Machine) is trained on the extracted features\n",
    "\n",
    "Features are extracted separately using extract_features_from_images.py file"
   ]
  },
  {
   "cell_type": "code",
   "execution_count": 1,
   "metadata": {},
   "outputs": [],
   "source": [
    "import numpy as np\n",
    "np.random.seed(143)\n",
    "import pandas as pd\n",
    "import os\n",
    "from glob import glob\n",
    "import matplotlib.pyplot as plt\n",
    "import seaborn as sns\n",
    "\n",
    "from sklearn import linear_model\n",
    "from sklearn.metrics import classification_report, confusion_matrix\n",
    "from sklearn.model_selection import KFold \n",
    "\n",
    "%matplotlib inline"
   ]
  },
  {
   "cell_type": "code",
   "execution_count": 2,
   "metadata": {},
   "outputs": [],
   "source": [
    "label2idx = {\n",
    "    'Empty': 0,\n",
    "    'Occupied': 1\n",
    "}"
   ]
  },
  {
   "cell_type": "code",
   "execution_count": 3,
   "metadata": {},
   "outputs": [],
   "source": [
    "def read_features(feature_path):\n",
    "    if os.path.exists(feature_path):\n",
    "        with open(feature_path, 'r') as features_file:\n",
    "            features_str = features_file.read()\n",
    "        features = [float(x) for x in features_str.split(',')]\n",
    "        label = feature_path.split(\"~\")[-2]\n",
    "    \n",
    "    return features, label2idx[label]"
   ]
  },
  {
   "cell_type": "code",
   "execution_count": 4,
   "metadata": {},
   "outputs": [],
   "source": [
    "train = \"../vkda/pklot_dataset/features/resnet50/train/*.txt\"\n",
    "valid = \"../vkda/pklot_dataset/features/resnet50/valid/*.txt\""
   ]
  },
  {
   "cell_type": "code",
   "execution_count": 6,
   "metadata": {},
   "outputs": [],
   "source": [
    "# Creat validation dataset\n",
    "valid_x = []\n",
    "valid_y = []\n",
    "for f in glob(valid):\n",
    "    x, y = read_features(f)\n",
    "    valid_x.append(x)\n",
    "    valid_y.append(y)\n",
    "valid_x = np.asarray(valid_x)\n",
    "valid_y = np.asarray(valid_y)"
   ]
  },
  {
   "cell_type": "code",
   "execution_count": 7,
   "metadata": {},
   "outputs": [],
   "source": [
    "# Create training dataset\n",
    "train_x = []\n",
    "train_y = []\n",
    "for feature_file in glob(train):\n",
    "    x, y = read_features(feature_file)\n",
    "    train_x.append(x)\n",
    "    train_y.append(y)\n",
    "train_x = np.asarray(train_x)\n",
    "train_y = np.asarray(train_y) "
   ]
  },
  {
   "cell_type": "markdown",
   "metadata": {},
   "source": [
    "### Fit the model on training dataset"
   ]
  },
  {
   "cell_type": "markdown",
   "metadata": {},
   "source": [
    "#### To train the model in batch mode"
   ]
  },
  {
   "cell_type": "markdown",
   "metadata": {},
   "source": [
    "For large datset, Support Vector Classifer or SGDClassifer fit() will take long time to train. To train the model in batch mode, please use the below cell and skip others"
   ]
  },
  {
   "cell_type": "code",
   "execution_count": 2,
   "metadata": {
    "scrolled": true
   },
   "outputs": [],
   "source": [
    "# size = len(glob(train))\n",
    "# train_x = glob(train)\n",
    "# batch_size = 100\n",
    "# steps = size // batch_size\n",
    "\n",
    "# # Linear SVM classifier\n",
    "# clf = linear_model.SGDClassifier(max_iter=1000, tol=1e-3)\n",
    "\n",
    "# for idx in range(steps+1):\n",
    "#     print(\"Step: \", idx+1)\n",
    "#     mini_train_x = train_x[idx*batch_size: (idx+1)*batch_size]\n",
    "#     X = []\n",
    "#     Y = []\n",
    "#     for feature_file in mini_train_x:\n",
    "#         x, y = read_features(feature_file)\n",
    "#         X.append(x)\n",
    "#         Y.append(y)\n",
    "#     X = np.asarray(X)\n",
    "#     Y = np.asarray(Y)\n",
    "#     clf.partial_fit(X, Y, classes=np.asarray([0,1]))\n",
    "#     # Evaluate the model on validation dataset\n",
    "#     print(\"Validation accuracy: \", clf.score(valid_x, valid_y))"
   ]
  },
  {
   "cell_type": "markdown",
   "metadata": {},
   "source": [
    "#### To train the model in normal mode"
   ]
  },
  {
   "cell_type": "markdown",
   "metadata": {},
   "source": [
    "To train the model in full dataset without using partial fit()"
   ]
  },
  {
   "cell_type": "code",
   "execution_count": 9,
   "metadata": {},
   "outputs": [],
   "source": [
    "# Initialize the model with loss tolerance 1e-3\n",
    "clf = linear_model.SGDClassifier(max_iter=1000, tol=1e-3)"
   ]
  },
  {
   "cell_type": "code",
   "execution_count": 10,
   "metadata": {},
   "outputs": [],
   "source": [
    "# Create 5-fold cross validation split index\n",
    "kf = KFold(n_splits=5, random_state=187, shuffle=False)"
   ]
  },
  {
   "cell_type": "code",
   "execution_count": 11,
   "metadata": {},
   "outputs": [
    {
     "name": "stdout",
     "output_type": "stream",
     "text": [
      "Cross validation score:  0.997\n"
     ]
    }
   ],
   "source": [
    "cv_score = []\n",
    "for train_index, test_index in kf.split(train_x):\n",
    "    train_x_fold, test_x_fold = train_x[train_index], train_x[test_index]\n",
    "    train_y_fold, test_y_fold = train_y[train_index], train_y[test_index]\n",
    "    \n",
    "    clf.fit(train_x_fold, train_y_fold)\n",
    "    score_fold = clf.score(test_x_fold, test_y_fold)\n",
    "    cv_score.append(score_fold)\n",
    "\n",
    "print(\"Cross validation score: \", round(sum(cv_score)/5, 3))"
   ]
  },
  {
   "cell_type": "markdown",
   "metadata": {},
   "source": [
    "### Evaluate the model metrics on validation dataset"
   ]
  },
  {
   "cell_type": "code",
   "execution_count": 12,
   "metadata": {},
   "outputs": [
    {
     "name": "stdout",
     "output_type": "stream",
     "text": [
      "Validation score:  0.985\n"
     ]
    }
   ],
   "source": [
    "# Mean accuracy score\n",
    "print(\"Validation score: \", round(clf.score(valid_x, valid_y), 3))"
   ]
  },
  {
   "cell_type": "code",
   "execution_count": 13,
   "metadata": {},
   "outputs": [],
   "source": [
    "# Generate predictions on validation dataset\n",
    "valid_pred = clf.predict(valid_x)"
   ]
  },
  {
   "cell_type": "code",
   "execution_count": 14,
   "metadata": {},
   "outputs": [
    {
     "name": "stdout",
     "output_type": "stream",
     "text": [
      "             precision    recall  f1-score   support\n",
      "\n",
      "      Empty       0.99      0.98      0.99     22980\n",
      "   Occupied       0.98      0.99      0.98     19404\n",
      "\n",
      "avg / total       0.99      0.99      0.99     42384\n",
      "\n"
     ]
    }
   ],
   "source": [
    "print(classification_report(valid_y, valid_pred, target_names=['Empty', 'Occupied']))"
   ]
  },
  {
   "cell_type": "code",
   "execution_count": 15,
   "metadata": {},
   "outputs": [
    {
     "data": {
      "image/png": "[encoded data removed]",
      "text/plain": [
       "<Figure size 432x288 with 2 Axes>"
      ]
     },
     "metadata": {},
     "output_type": "display_data"
    }
   ],
   "source": [
    "# confusion matrix\n",
    "cm = confusion_matrix(valid_y, valid_pred)\n",
    "ax= plt.subplot()\n",
    "sns.heatmap(cm, annot=True, ax = ax); \n",
    "ax.set_xlabel('Predicted labels');\n",
    "ax.set_ylabel('True labels'); \n",
    "ax.set_title('Confusion Matrix'); \n",
    "ax.xaxis.set_ticklabels(['Empty', 'Occupied']); \n",
    "ax.yaxis.set_ticklabels(['Empty', 'Occupied']);"
   ]
  },
  {
   "cell_type": "code",
   "execution_count": 19,
   "metadata": {},
   "outputs": [
    {
     "name": "stdout",
     "output_type": "stream",
     "text": [
      "[[22573   407]\n",
      " [  214 19190]]\n"
     ]
    }
   ],
   "source": [
    "print(cm)"
   ]
  },
  {
   "cell_type": "markdown",
   "metadata": {},
   "source": [
    "### Save model"
   ]
  },
  {
   "cell_type": "code",
   "execution_count": 16,
   "metadata": {},
   "outputs": [],
   "source": [
    "import pickle as pkl"
   ]
  },
  {
   "cell_type": "code",
   "execution_count": 17,
   "metadata": {},
   "outputs": [],
   "source": [
    "model_name = \"resnet50_linear_svm.h5\"\n",
    "pkl.dump(clf, open(model_name, 'wb'))"
   ]
  },
  {
   "cell_type": "markdown",
   "metadata": {},
   "source": [
    "### Load and validate the model"
   ]
  },
  {
   "cell_type": "code",
   "execution_count": 18,
   "metadata": {},
   "outputs": [
    {
     "name": "stdout",
     "output_type": "stream",
     "text": [
      "             precision    recall  f1-score   support\n",
      "\n",
      "      Empty       0.99      0.98      0.99     22980\n",
      "   Occupied       0.98      0.99      0.98     19404\n",
      "\n",
      "avg / total       0.99      0.99      0.99     42384\n",
      "\n"
     ]
    }
   ],
   "source": [
    "loaded_model = pkl.load(open(model_name, 'rb'))\n",
    "print(classification_report(valid_y, valid_pred, target_names=['Empty', 'Occupied']))"
   ]
  },
  {
   "cell_type": "code",
   "execution_count": null,
   "metadata": {},
   "outputs": [],
   "source": []
  },
  {
   "cell_type": "code",
   "execution_count": null,
   "metadata": {},
   "outputs": [],
   "source": []
  },
  {
   "cell_type": "code",
   "execution_count": null,
   "metadata": {},
   "outputs": [],
   "source": []
  },
  {
   "cell_type": "code",
   "execution_count": null,
   "metadata": {},
   "outputs": [],
   "source": []
  }
 ],
 "metadata": {
  "kernelspec": {
   "display_name": "Environment (conda_tensorflow_p36)",
   "language": "python",
   "name": "conda_tensorflow_p36"
  },
  "language_info": {
   "codemirror_mode": {
    "name": "ipython",
    "version": 3
   },
   "file_extension": ".py",
   "mimetype": "text/x-python",
   "name": "python",
   "nbconvert_exporter": "python",
   "pygments_lexer": "ipython3",
   "version": "3.6.5"
  }
 },
 "nbformat": 4,
 "nbformat_minor": 2
}
